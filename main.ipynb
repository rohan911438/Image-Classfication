{
 "cells": [
  {
   "cell_type": "code",
   "execution_count": null,
   "id": "92f34f24",
   "metadata": {},
   "outputs": [],
   "source": [
    "import numpy as np\n",
    "import pandas as pd\n",
    "import matplotlib.pyplot as plt\n",
    "import tensorflow as tf\n",
    "\n",
    "from tensorflow import keras \n",
    "from tensorflow.keras import layers\n"
   ]
  },
  {
   "cell_type": "code",
   "execution_count": null,
   "id": "c7d86daa",
   "metadata": {},
   "outputs": [],
   "source": [
    "! pip install numpy "
   ]
  },
  {
   "cell_type": "code",
   "execution_count": null,
   "id": "16d0ddf3",
   "metadata": {},
   "outputs": [],
   "source": [
    "! pip install pandas "
   ]
  },
  {
   "cell_type": "code",
   "execution_count": null,
   "id": "dbe1c0e1",
   "metadata": {},
   "outputs": [],
   "source": [
    "! pip install matplotlib"
   ]
  },
  {
   "cell_type": "code",
   "execution_count": null,
   "id": "806c8155",
   "metadata": {},
   "outputs": [],
   "source": [
    "! pip install tensorflow"
   ]
  },
  {
   "cell_type": "code",
   "execution_count": null,
   "id": "6724b803",
   "metadata": {},
   "outputs": [],
   "source": [
    "data_train_path = r'C:\\Users\\ABHINAV KUMAR\\Desktop\\Image Classification\\Fruits_Vegetables\\train'\n",
    "data_test_path = r'C:\\Users\\ABHINAV KUMAR\\Desktop\\Image Classification\\Fruits_Vegetables\\test'\n",
    "data_val_path = r'C:\\Users\\ABHINAV KUMAR\\Desktop\\Image Classification\\Fruits_Vegetables\\validation'"
   ]
  },
  {
   "cell_type": "code",
   "execution_count": null,
   "id": "cb88b64c",
   "metadata": {},
   "outputs": [],
   "source": [
    "img_width=180\n",
    "img_height=180"
   ]
  },
  {
   "cell_type": "code",
   "execution_count": null,
   "id": "503e55be",
   "metadata": {},
   "outputs": [],
   "source": [
    "data_train=tf.keras.utils.image_dataset_from_directory(\n",
    "    data_train_path,\n",
    "    shuffle=True,\n",
    "    image_size=(img_width, img_height),\n",
    "    batch_size=32,\n",
    "    validation_split=False)"
   ]
  },
  {
   "cell_type": "code",
   "execution_count": null,
   "id": "7d1acb2c",
   "metadata": {},
   "outputs": [],
   "source": [
    "data_cat=data_train.class_names"
   ]
  },
  {
   "cell_type": "code",
   "execution_count": null,
   "id": "de37c9ab",
   "metadata": {},
   "outputs": [],
   "source": [
    "data_val =tf.keras.utils.image_dataset_from_directory(\n",
    "    data_val_path,\n",
    "    image_size=(img_width, img_height), \n",
    "    batch_size=32,\n",
    "    validation_split=False,\n",
    "    shuffle=False)"
   ]
  },
  {
   "cell_type": "code",
   "execution_count": null,
   "id": "a45965a6",
   "metadata": {},
   "outputs": [],
   "source": [
    "data_test = tf.keras.utils.image_dataset_from_directory(\n",
    "    data_test_path,\n",
    "    image_size=(img_width, img_height),\n",
    "    batch_size=32,\n",
    "    validation_split=False,\n",
    "    shuffle=False)"
   ]
  },
  {
   "cell_type": "code",
   "execution_count": null,
   "id": "1ea47278",
   "metadata": {},
   "outputs": [],
   "source": [
    "plt.figure(figsize=(10, 10))\n",
    "for images, labels in data_train.take(1):\n",
    "    for i in range(9):\n",
    "        plt.subplot(3, 3, i + 1)\n",
    "        plt.imshow(images[i].numpy().astype(\"uint8\"))\n",
    "        plt.title(data_cat[labels[i]])\n",
    "        plt.axis(\"off\")"
   ]
  },
  {
   "cell_type": "code",
   "execution_count": null,
   "id": "2374f205",
   "metadata": {},
   "outputs": [],
   "source": [
    "from tensorflow.keras.models import Sequential"
   ]
  },
  {
   "cell_type": "code",
   "execution_count": null,
   "id": "95ff8c14",
   "metadata": {},
   "outputs": [],
   "source": [
    "model = Sequential([\n",
    "    layers.Rescaling(1./255, input_shape=(img_width, img_height, 3)),\n",
    "    \n",
    "    # First Conv Block\n",
    "    layers.Conv2D(32, 3, padding='same', activation='relu'),\n",
    "    layers.BatchNormalization(),\n",
    "    layers.Conv2D(32, 3, padding='same', activation='relu'),\n",
    "    layers.MaxPooling2D(),\n",
    "    layers.Dropout(0.25),\n",
    "    \n",
    "    # Second Conv Block\n",
    "    layers.Conv2D(64, 3, padding='same', activation='relu'),\n",
    "    layers.BatchNormalization(),\n",
    "    layers.Conv2D(64, 3, padding='same', activation='relu'),\n",
    "    layers.MaxPooling2D(),\n",
    "    layers.Dropout(0.25),\n",
    "    \n",
    "    # Third Conv Block\n",
    "    layers.Conv2D(128, 3, padding='same', activation='relu'),\n",
    "    layers.BatchNormalization(),\n",
    "    layers.Conv2D(128, 3, padding='same', activation='relu'),\n",
    "    layers.MaxPooling2D(),\n",
    "    layers.Dropout(0.25),\n",
    "    \n",
    "    # Fourth Conv Block\n",
    "    layers.Conv2D(256, 3, padding='same', activation='relu'),\n",
    "    layers.BatchNormalization(),\n",
    "    layers.Conv2D(256, 3, padding='same', activation='relu'),\n",
    "    layers.MaxPooling2D(),\n",
    "    layers.Dropout(0.25),\n",
    "    \n",
    "    # Dense layers\n",
    "    layers.Flatten(),\n",
    "    layers.Dense(512, activation='relu'),\n",
    "    layers.BatchNormalization(),\n",
    "    layers.Dropout(0.5),\n",
    "    layers.Dense(256, activation='relu'),\n",
    "    layers.BatchNormalization(),\n",
    "    layers.Dropout(0.5),\n",
    "    layers.Dense(len(data_cat), activation='softmax')\n",
    "])"
   ]
  },
  {
   "cell_type": "code",
   "execution_count": null,
   "id": "183280f5",
   "metadata": {},
   "outputs": [],
   "source": [
    "model.compile(\n",
    "    optimizer=tf.keras.optimizers.Adam(learning_rate=0.0001),\n",
    "    loss=tf.keras.losses.SparseCategoricalCrossentropy(from_logits=False),\n",
    "    metrics=['accuracy']\n",
    ")"
   ]
  },
  {
   "cell_type": "code",
   "execution_count": null,
   "id": "a28b14b4",
   "metadata": {},
   "outputs": [],
   "source": [
    "epochs = 15\n",
    "\n",
    "# Add callbacks for better training\n",
    "early_stopping = tf.keras.callbacks.EarlyStopping(\n",
    "    monitor='val_accuracy',\n",
    "    patience=3,\n",
    "    restore_best_weights=True\n",
    ")\n",
    "\n",
    "reduce_lr = tf.keras.callbacks.ReduceLROnPlateau(\n",
    "    monitor='val_loss',\n",
    "    factor=0.2,\n",
    "    patience=2,\n",
    "    min_lr=1e-7\n",
    ")\n",
    "\n",
    "history = model.fit(\n",
    "    data_train,\n",
    "    validation_data=data_val,\n",
    "    epochs=epochs,\n",
    "    batch_size=32,\n",
    "    verbose=1,\n",
    "    callbacks=[early_stopping, reduce_lr]\n",
    ")"
   ]
  },
  {
   "cell_type": "code",
   "execution_count": null,
   "id": "dc2a2f56",
   "metadata": {},
   "outputs": [],
   "source": [
    "model.summary()"
   ]
  },
  {
   "cell_type": "code",
   "execution_count": null,
   "id": "55eadd91",
   "metadata": {},
   "outputs": [],
   "source": [
    "epochs_range = range(epochs)\n",
    "plt.figure(figsize=(8, 8))\n",
    "plt.subplot(1, 2, 1)\n",
    "plt.plot(epochs_range, history.history['accuracy'], label='Training Accuracy')\n",
    "plt.plot(epochs_range, history.history['val_accuracy'], label='Validation Accuracy')\n",
    "plt.legend(loc='lower right')\n",
    "plt.title('Training and Validation Accuracy')\n",
    "\n",
    "plt.subplot(1, 2, 2)\n",
    "plt.plot(epochs_range, history.history['loss'], label='Training Loss')\n",
    "plt.plot(epochs_range, history.history['val_loss'], label='Validation Loss')\n",
    "plt.legend(loc='upper right')\n",
    "plt.title('Training and Validation Loss')\n",
    "plt.show()"
   ]
  },
  {
   "cell_type": "code",
   "execution_count": null,
   "id": "15aa04fc",
   "metadata": {},
   "outputs": [],
   "source": [
    "image = 'Banana.jpg'\n",
    "image = keras.utils.load_img(\n",
    "    image, target_size=(img_width, img_height)\n",
    ")\n",
    "img_arr = tf.keras.utils.img_to_array(image)\n",
    "img_bat = tf.expand_dims(img_arr, 0)  # Create a batch"
   ]
  },
  {
   "cell_type": "code",
   "execution_count": null,
   "id": "cd475864",
   "metadata": {},
   "outputs": [],
   "source": [
    "predict = model.predict(img_bat)\n",
    "predict"
   ]
  },
  {
   "cell_type": "code",
   "execution_count": null,
   "id": "5f359fe2",
   "metadata": {},
   "outputs": [],
   "source": [
    "score = tf.nn.softmax(predict)"
   ]
  },
  {
   "cell_type": "code",
   "execution_count": null,
   "id": "8b01e6da",
   "metadata": {},
   "outputs": [],
   "source": [
    "print('Veg/Fruit in image is {} with accuracy of {:.2f}%'.format(data_cat[np.argmax(score)], np.max(score)*100))"
   ]
  },
  {
   "cell_type": "code",
   "execution_count": null,
   "id": "c154f051",
   "metadata": {},
   "outputs": [],
   "source": [
    "model.save('Image_classify.keras')"
   ]
  }
 ],
 "metadata": {
  "kernelspec": {
   "display_name": "tf-env",
   "language": "python",
   "name": "python3"
  },
  "language_info": {
   "codemirror_mode": {
    "name": "ipython",
    "version": 3
   },
   "file_extension": ".py",
   "mimetype": "text/x-python",
   "name": "python",
   "nbconvert_exporter": "python",
   "pygments_lexer": "ipython3",
   "version": "3.10.11"
  }
 },
 "nbformat": 4,
 "nbformat_minor": 5
}
